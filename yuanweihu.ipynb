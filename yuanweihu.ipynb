{
 "cells": [
  {
   "cell_type": "code",
   "execution_count": 1,
   "metadata": {},
   "outputs": [],
   "source": [
    "import numpy as np"
   ]
  },
  {
   "cell_type": "code",
   "execution_count": 5,
   "metadata": {},
   "outputs": [],
   "source": [
    "from sklearn.datasets import load_iris #加载鸢尾花数据"
   ]
  },
  {
   "cell_type": "code",
   "execution_count": 6,
   "metadata": {},
   "outputs": [],
   "source": [
    "from sklearn import tree #导入模型"
   ]
  },
  {
   "cell_type": "code",
   "execution_count": 7,
   "metadata": {},
   "outputs": [],
   "source": [
    "iris = load_iris() #引入数据集"
   ]
  },
  {
   "cell_type": "code",
   "execution_count": 8,
   "metadata": {},
   "outputs": [
    {
     "name": "stdout",
     "output_type": "stream",
     "text": [
      "['sepal length (cm)', 'sepal width (cm)', 'petal length (cm)', 'petal width (cm)']\n"
     ]
    }
   ],
   "source": [
    "print(iris.feature_names) #打印数据集的属性"
   ]
  },
  {
   "cell_type": "code",
   "execution_count": 9,
   "metadata": {},
   "outputs": [
    {
     "name": "stdout",
     "output_type": "stream",
     "text": [
      "['setosa' 'versicolor' 'virginica']\n"
     ]
    }
   ],
   "source": [
    "print iris.target_names"
   ]
  },
  {
   "cell_type": "code",
   "execution_count": 10,
   "metadata": {},
   "outputs": [
    {
     "name": "stdout",
     "output_type": "stream",
     "text": [
      "[5.1 3.5 1.4 0.2]\n"
     ]
    }
   ],
   "source": [
    "print iris.data[0]"
   ]
  },
  {
   "cell_type": "code",
   "execution_count": 11,
   "metadata": {},
   "outputs": [
    {
     "name": "stdout",
     "output_type": "stream",
     "text": [
      "0\n"
     ]
    }
   ],
   "source": [
    "print iris.target[0]"
   ]
  },
  {
   "cell_type": "code",
   "execution_count": 12,
   "metadata": {},
   "outputs": [],
   "source": [
    "test_idx = [0,50,100]"
   ]
  },
  {
   "cell_type": "code",
   "execution_count": 14,
   "metadata": {},
   "outputs": [],
   "source": [
    "train_target = np.delete(iris.target,test_idx)\n",
    "train_data = np.delete(iris.data,test_idx,axis=0)"
   ]
  },
  {
   "cell_type": "code",
   "execution_count": 15,
   "metadata": {},
   "outputs": [],
   "source": [
    "clf = tree.DecisionTreeClassifier()\n",
    "clf = clf.fit(train_data,train_target)"
   ]
  },
  {
   "cell_type": "code",
   "execution_count": 16,
   "metadata": {},
   "outputs": [],
   "source": [
    "from sklearn.externals.six import StringIO"
   ]
  },
  {
   "cell_type": "code",
   "execution_count": 18,
   "metadata": {},
   "outputs": [],
   "source": [
    "import pydot"
   ]
  },
  {
   "cell_type": "code",
   "execution_count": 19,
   "metadata": {},
   "outputs": [],
   "source": [
    "dot_data = StringIO()"
   ]
  },
  {
   "cell_type": "code",
   "execution_count": 20,
   "metadata": {},
   "outputs": [],
   "source": [
    "tree.export_graphviz(clf,out_file=dot_data,\n",
    "                     feature_names=iris.feature_names,\n",
    "                    class_names=iris.target_names,\n",
    "                    filled=True,rounded=True,\n",
    "                    special_characters=True)"
   ]
  },
  {
   "cell_type": "code",
   "execution_count": 21,
   "metadata": {},
   "outputs": [],
   "source": [
    "graph = pydot.graph_from_dot_data(dot_data.getvalue())"
   ]
  },
  {
   "cell_type": "code",
   "execution_count": 22,
   "metadata": {},
   "outputs": [
    {
     "name": "stdout",
     "output_type": "stream",
     "text": [
      "1\n"
     ]
    }
   ],
   "source": [
    "print len(graph)"
   ]
  },
  {
   "cell_type": "code",
   "execution_count": 23,
   "metadata": {},
   "outputs": [
    {
     "name": "stdout",
     "output_type": "stream",
     "text": [
      "[<pydot.Dot object at 0x000000000F41DC50>]\n"
     ]
    }
   ],
   "source": [
    "print graph"
   ]
  },
  {
   "cell_type": "code",
   "execution_count": 29,
   "metadata": {},
   "outputs": [
    {
     "name": "stdout",
     "output_type": "stream",
     "text": [
      "digraph Tree {\n",
      "node [color=\"black\", fontname=helvetica, shape=box, style=\"filled, rounded\"];\n",
      "edge [fontname=helvetica];\n",
      "0 [fillcolor=\"#e5813900\", label=<petal length (cm) &le; 2.45<br/>gini = 0.667<br/>samples = 147<br/>value = [49, 49, 49]<br/>class = setosa>];\n",
      "1 [fillcolor=\"#e58139ff\", label=<gini = 0.0<br/>samples = 49<br/>value = [49, 0, 0]<br/>class = setosa>];\n",
      "0 -> 1  [headlabel=\"True\", labelangle=45, labeldistance=\"2.5\"];\n",
      "2 [fillcolor=\"#39e58100\", label=<petal width (cm) &le; 1.75<br/>gini = 0.5<br/>samples = 98<br/>value = [0, 49, 49]<br/>class = versicolor>];\n",
      "0 -> 2  [headlabel=\"False\", labelangle=\"-45\", labeldistance=\"2.5\"];\n",
      "3 [fillcolor=\"#39e581e4\", label=<petal length (cm) &le; 4.95<br/>gini = 0.171<br/>samples = 53<br/>value = [0, 48, 5]<br/>class = versicolor>];\n",
      "2 -> 3;\n",
      "4 [fillcolor=\"#39e581f9\", label=<petal width (cm) &le; 1.65<br/>gini = 0.042<br/>samples = 47<br/>value = [0, 46, 1]<br/>class = versicolor>];\n",
      "3 -> 4;\n",
      "5 [fillcolor=\"#39e581ff\", label=<gini = 0.0<br/>samples = 46<br/>value = [0, 46, 0]<br/>class = versicolor>];\n",
      "4 -> 5;\n",
      "6 [fillcolor=\"#8139e5ff\", label=<gini = 0.0<br/>samples = 1<br/>value = [0, 0, 1]<br/>class = virginica>];\n",
      "4 -> 6;\n",
      "7 [fillcolor=\"#8139e57f\", label=<petal width (cm) &le; 1.55<br/>gini = 0.444<br/>samples = 6<br/>value = [0, 2, 4]<br/>class = virginica>];\n",
      "3 -> 7;\n",
      "8 [fillcolor=\"#8139e5ff\", label=<gini = 0.0<br/>samples = 3<br/>value = [0, 0, 3]<br/>class = virginica>];\n",
      "7 -> 8;\n",
      "9 [fillcolor=\"#39e5817f\", label=<petal length (cm) &le; 5.45<br/>gini = 0.444<br/>samples = 3<br/>value = [0, 2, 1]<br/>class = versicolor>];\n",
      "7 -> 9;\n",
      "10 [fillcolor=\"#39e581ff\", label=<gini = 0.0<br/>samples = 2<br/>value = [0, 2, 0]<br/>class = versicolor>];\n",
      "9 -> 10;\n",
      "11 [fillcolor=\"#8139e5ff\", label=<gini = 0.0<br/>samples = 1<br/>value = [0, 0, 1]<br/>class = virginica>];\n",
      "9 -> 11;\n",
      "12 [fillcolor=\"#8139e5f9\", label=<petal length (cm) &le; 4.85<br/>gini = 0.043<br/>samples = 45<br/>value = [0, 1, 44]<br/>class = virginica>];\n",
      "2 -> 12;\n",
      "13 [fillcolor=\"#8139e57f\", label=<sepal width (cm) &le; 3.1<br/>gini = 0.444<br/>samples = 3<br/>value = [0, 1, 2]<br/>class = virginica>];\n",
      "12 -> 13;\n",
      "14 [fillcolor=\"#8139e5ff\", label=<gini = 0.0<br/>samples = 2<br/>value = [0, 0, 2]<br/>class = virginica>];\n",
      "13 -> 14;\n",
      "15 [fillcolor=\"#39e581ff\", label=<gini = 0.0<br/>samples = 1<br/>value = [0, 1, 0]<br/>class = versicolor>];\n",
      "13 -> 15;\n",
      "16 [fillcolor=\"#8139e5ff\", label=<gini = 0.0<br/>samples = 42<br/>value = [0, 0, 42]<br/>class = virginica>];\n",
      "12 -> 16;\n",
      "}\n",
      "\n"
     ]
    }
   ],
   "source": [
    "print graph[0]"
   ]
  },
  {
   "cell_type": "code",
   "execution_count": 27,
   "metadata": {},
   "outputs": [],
   "source": [
    "graph[0].write_pdf(\"iris.pdf\")"
   ]
  },
  {
   "cell_type": "code",
   "execution_count": null,
   "metadata": {},
   "outputs": [],
   "source": []
  }
 ],
 "metadata": {
  "kernelspec": {
   "display_name": "python2.7",
   "language": "python",
   "name": "python2.7"
  },
  "language_info": {
   "codemirror_mode": {
    "name": "ipython",
    "version": 2
   },
   "file_extension": ".py",
   "mimetype": "text/x-python",
   "name": "python",
   "nbconvert_exporter": "python",
   "pygments_lexer": "ipython2",
   "version": "2.7.13"
  }
 },
 "nbformat": 4,
 "nbformat_minor": 2
}
